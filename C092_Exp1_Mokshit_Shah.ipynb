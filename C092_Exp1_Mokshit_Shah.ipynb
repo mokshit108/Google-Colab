{
  "nbformat": 4,
  "nbformat_minor": 0,
  "metadata": {
    "colab": {
      "name": "C092_Exp1_Mokshit_Shah.ipynb",
      "provenance": [],
      "authorship_tag": "ABX9TyMstIi/oXsARxXBp2Fkruit",
      "include_colab_link": true
    },
    "kernelspec": {
      "name": "python3",
      "display_name": "Python 3"
    },
    "language_info": {
      "name": "python"
    }
  },
  "cells": [
    {
      "cell_type": "markdown",
      "metadata": {
        "id": "view-in-github",
        "colab_type": "text"
      },
      "source": [
        "<a href=\"https://colab.research.google.com/github/mokshit108/Google-Colab/blob/main/C092_Exp1_Mokshit_Shah.ipynb\" target=\"_parent\"><img src=\"https://colab.research.google.com/assets/colab-badge.svg\" alt=\"Open In Colab\"/></a>"
      ]
    },
    {
      "cell_type": "code",
      "metadata": {
        "colab": {
          "base_uri": "https://localhost:8080/"
        },
        "id": "9cdUz1l-11U2",
        "outputId": "af889ec2-184b-48c5-9efe-83970e5f925f"
      },
      "source": [
        "time.sleep(5)\n",
        "print(time.ctime())\n"
      ],
      "execution_count": 4,
      "outputs": [
        {
          "output_type": "stream",
          "text": [
            "Thu Jul 15 06:27:56 2021\n"
          ],
          "name": "stdout"
        }
      ]
    },
    {
      "cell_type": "code",
      "metadata": {
        "colab": {
          "base_uri": "https://localhost:8080/"
        },
        "id": "WrwktaO8yR-V",
        "outputId": "b9c3ab65-79be-4827-9149-5e2a5a07e708"
      },
      "source": [
        "import time\n",
        "print(time.ctime())"
      ],
      "execution_count": 3,
      "outputs": [
        {
          "output_type": "stream",
          "text": [
            "Thu Jul 15 06:27:50 2021\n"
          ],
          "name": "stdout"
        }
      ]
    }
  ]
}